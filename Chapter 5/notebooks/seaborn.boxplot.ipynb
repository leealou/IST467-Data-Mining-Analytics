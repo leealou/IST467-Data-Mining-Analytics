{
 "cells": [
  {
   "cell_type": "code",
   "execution_count": null,
   "metadata": {},
   "outputs": [],
   "source": [
    "import pandas as pd\n",
    "from sklearn import datasets\n",
    "import seaborn as sns\n",
    "\n",
    "boston = datasets.load_boston()\n",
    "\n",
    "BostonDF = pd.DataFrame(boston.data, columns=boston.feature_names)\n",
    "\n",
    "Predictors = BostonDF[BostonDF.columns[0:12]]\n",
    "\n",
    "sns.set(style=\"ticks\")\n",
    "sns.boxplot(data = Predictors)\n",
    "\n",
    "from sklearn.preprocessing import MinMaxScaler\n",
    "\n",
    "scaler = MinMaxScaler()\n",
    "DataScaled = scaler.fit_transform(Predictors)\n",
    "\n",
    "\n",
    "sns.set(style=\"ticks\")\n",
    "sns.boxplot(data = DataScaled)\n"
   ]
  },
  {
   "cell_type": "code",
   "execution_count": null,
   "metadata": {},
   "outputs": [],
   "source": []
  }
 ],
 "metadata": {
  "kernelspec": {
   "display_name": "Python 3",
   "language": "python",
   "name": "python3"
  },
  "language_info": {
   "codemirror_mode": {
    "name": "ipython",
    "version": 3
   },
   "file_extension": ".py",
   "mimetype": "text/x-python",
   "name": "python",
   "nbconvert_exporter": "python",
   "pygments_lexer": "ipython3",
   "version": "3.9.6"
  }
 },
 "nbformat": 4,
 "nbformat_minor": 4
}

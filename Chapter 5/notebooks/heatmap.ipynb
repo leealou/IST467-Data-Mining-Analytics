{
 "cells": [
  {
   "cell_type": "code",
   "execution_count": null,
   "metadata": {},
   "outputs": [],
   "source": [
    "import numpy as np\n",
    "import matplotlib.pyplot as plt\n",
    "\n",
    "# Define the two groups \n",
    "group1 = ['France', 'Italy', 'Spain', 'Portugal', 'Germany'] \n",
    "group2 = ['Japan', 'China', 'Brazil', 'Russia', 'Australia']\n",
    "\n",
    "# Generate some random values\n",
    "data = np.random.rand(5, 5)\n",
    "\n",
    "# Create a figure\n",
    "fig, ax = plt.subplots()\n",
    "\n",
    "# Create the heat map\n",
    "heatmap = ax.pcolor(data, cmap=plt.cm.gray)\n",
    "\n",
    "# Add major ticks at the middle of each cell\n",
    "ax.set_xticks(np.arange(data.shape[0]) + 0.5, minor=False)\n",
    "ax.set_yticks(np.arange(data.shape[1]) + 0.5, minor=False)\n",
    "\n",
    "# Make it look like a table \n",
    "ax.invert_yaxis()\n",
    "ax.xaxis.tick_top()\n",
    "\n",
    "# Add tick labels\n",
    "ax.set_xticklabels(group2, minor=False)\n",
    "ax.set_yticklabels(group1, minor=False)\n",
    "\n",
    "plt.show()\n"
   ]
  },
  {
   "cell_type": "code",
   "execution_count": null,
   "metadata": {},
   "outputs": [],
   "source": []
  },
  {
   "cell_type": "code",
   "execution_count": null,
   "metadata": {},
   "outputs": [],
   "source": []
  }
 ],
 "metadata": {
  "kernelspec": {
   "display_name": "Python 3",
   "language": "python",
   "name": "python3"
  },
  "language_info": {
   "codemirror_mode": {
    "name": "ipython",
    "version": 3
   },
   "file_extension": ".py",
   "mimetype": "text/x-python",
   "name": "python",
   "nbconvert_exporter": "python",
   "pygments_lexer": "ipython3",
   "version": "3.9.6"
  }
 },
 "nbformat": 4,
 "nbformat_minor": 4
}

{
 "cells": [
  {
   "cell_type": "code",
   "execution_count": null,
   "metadata": {},
   "outputs": [],
   "source": [
    "import numpy as np\n",
    "import matplotlib.pyplot as plt\n",
    "\n",
    "# Define the number of values\n",
    "num_vals = 40\n",
    "\n",
    "# Generate random values\n",
    "x = np.random.rand(num_vals)\n",
    "y = np.random.rand(num_vals)\n",
    "\n",
    "# Define area for each bubble\n",
    "# Max radius is set to a specified value\n",
    "max_radius = 25\n",
    "area = np.pi * (max_radius * np.random.rand(num_vals)) ** 2  \n",
    "\n",
    "# Generate colors\n",
    "colors = np.random.rand(num_vals)\n",
    "\n",
    "# Plot the points\n",
    "plt.scatter(x, y, s=area, c=colors, alpha=1.0)\n",
    "\n",
    "plt.show()\n",
    "plt.savefig('figure.pdf', format='pdf', dpi=1200)\n"
   ]
  },
  {
   "cell_type": "code",
   "execution_count": null,
   "metadata": {},
   "outputs": [],
   "source": []
  }
 ],
 "metadata": {
  "kernelspec": {
   "display_name": "Python 3",
   "language": "python",
   "name": "python3"
  },
  "language_info": {
   "codemirror_mode": {
    "name": "ipython",
    "version": 3
   },
   "file_extension": ".py",
   "mimetype": "text/x-python",
   "name": "python",
   "nbconvert_exporter": "python",
   "pygments_lexer": "ipython3",
   "version": "3.9.6"
  }
 },
 "nbformat": 4,
 "nbformat_minor": 4
}

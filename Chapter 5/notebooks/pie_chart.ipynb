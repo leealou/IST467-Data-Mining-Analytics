{
 "cells": [
  {
   "cell_type": "code",
   "execution_count": null,
   "metadata": {},
   "outputs": [],
   "source": [
    "import matplotlib.pyplot as plt\n",
    "\n",
    "# Labels and corresponding values in counter clockwise direction\n",
    "data = {'Apple': 26, \n",
    "        'Mango': 17,\n",
    "        'Pineapple': 21, \n",
    "        'Banana': 29, \n",
    "        'Strawberry': 11}\n",
    "\n",
    "# List of corresponding colors\n",
    "colors = ['orange', 'lightgreen', 'lightblue', 'gold', 'cyan']\n",
    "\n",
    "# Needed if we want to highlight a section\n",
    "#explode = (0, 0, 0, 0, 0)  \n",
    "explode = (0, 0, 0, 0.3, 0)\n",
    "\n",
    "# Plot the pie chart\n",
    "plt.pie(data.values(), explode=explode, labels=data.keys(), \n",
    "        colors=colors, autopct='%1.1f%%', shadow=False, startangle=90)\n",
    "\n",
    "# Aspect ratio of the pie chart, 'equal' indicates tht we \n",
    "# want it to be a circle\n",
    "plt.axis('equal')\n",
    "\n",
    "plt.show()\n",
    "\n"
   ]
  },
  {
   "cell_type": "code",
   "execution_count": null,
   "metadata": {},
   "outputs": [],
   "source": []
  }
 ],
 "metadata": {
  "kernelspec": {
   "display_name": "Python 3",
   "language": "python",
   "name": "python3"
  },
  "language_info": {
   "codemirror_mode": {
    "name": "ipython",
    "version": 3
   },
   "file_extension": ".py",
   "mimetype": "text/x-python",
   "name": "python",
   "nbconvert_exporter": "python",
   "pygments_lexer": "ipython3",
   "version": "3.9.6"
  }
 },
 "nbformat": 4,
 "nbformat_minor": 4
}

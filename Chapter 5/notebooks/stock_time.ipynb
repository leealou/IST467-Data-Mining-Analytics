{
 "cells": [
  {
   "cell_type": "code",
   "execution_count": null,
   "id": "opposite-killer",
   "metadata": {},
   "outputs": [],
   "source": [
    "#matplotlib.mlab and .finance are no longer available\n",
    "import datetime\n",
    "import numpy as np\n",
    "import matplotlib.dates as mdates\n",
    "\n",
    "#Use pandas_datareader to get Yahoo data\n",
    "#Public avaialbe services include Yahoo Finance, Google Finance, Enigma, World Bank, OECD, and Eurostat, Nasdaq Trader Symbol Deinitions\n",
    "import pandas_datareader.data as webdata\n",
    "import pandas as pd\n",
    "import mplfinance as mpf\n",
    "import matplotlib.pyplot as plt\n",
    "import matplotlib\n",
    "import yfinance as yf\n",
    "yf.pdr_override()      # yfinance\n",
    "\n",
    "startdate = datetime.datetime(2014,4,12)\n",
    "enddate = datetime.datetime(2015,5,12)\n",
    "#today = enddate = datetime.date.today()\n",
    "plt.rcParams['axes.unicode_minus'] = False   #allow +,- in axes\n",
    "plt.rc('axes',grid=True)\n",
    "plt.rc('grid',color='0.75',linestyle='-',linewidth=0.5)\n",
    "rect = [0.4,0.5,0.8,0.5]\n",
    "\n",
    "fig =plt.figure(facecolor='white',figsize=(12,11))\n",
    "\n",
    "#axescolor = '#f6f6f6' #the axes background color\n",
    "ax = fig.add_axes(rect,facecolor='#f6f6f6')  #left, bottom, width, height =[0.4,0.5,0.8,0.5]\n",
    "ax.set_ylim(10,800)\n",
    "\n",
    "def plotTicker(ticker,startdate,enddate,fillcolor):\n",
    "    r= webdata.get_data_yahoo(ticker,startdate,enddate)\n",
    "    print(r.head())\n",
    "    mpf.plot(r, type='candle', mav=(2, 5, 10), volume=True)\n",
    "    ###plot the relative strength indicator\n",
    "    ###adjusted close removes the impacts of splits and dividends\n",
    "    prices = r['Adj Close']\n",
    "    \n",
    "    ###plot the price and volume data\n",
    "    \n",
    "    ax.plot(r.index,prices,color=fillcolor,lw=2,label=ticker)\n",
    "    ax.legend(loc='upper right',shadow=True,fancybox=True) #shadow: add shadows to the border,fancybox: set up the corners\n",
    "    ax.fmt_xdata = mdates.DateFormatter('%Y-%m-%d')\n",
    "    \n",
    "#plot the tickers now\n",
    "plotTicker('BIDU',startdate,enddate,'red')\n",
    "plotTicker('GOOG',startdate,enddate,'#1066ee')\n",
    "plotTicker('AMZN',startdate,enddate,'#506612')\n",
    "               \n",
    "plt.show()"
   ]
  },
  {
   "cell_type": "code",
   "execution_count": null,
   "id": "industrial-minnesota",
   "metadata": {},
   "outputs": [],
   "source": []
  },
  {
   "cell_type": "code",
   "execution_count": null,
   "id": "lesbian-reset",
   "metadata": {},
   "outputs": [],
   "source": []
  }
 ],
 "metadata": {
  "kernelspec": {
   "display_name": "Python 3",
   "language": "python",
   "name": "python3"
  },
  "language_info": {
   "codemirror_mode": {
    "name": "ipython",
    "version": 3
   },
   "file_extension": ".py",
   "mimetype": "text/x-python",
   "name": "python",
   "nbconvert_exporter": "python",
   "pygments_lexer": "ipython3",
   "version": "3.9.6"
  }
 },
 "nbformat": 4,
 "nbformat_minor": 5
}

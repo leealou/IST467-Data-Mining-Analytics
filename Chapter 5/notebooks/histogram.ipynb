{
 "cells": [
  {
   "cell_type": "code",
   "execution_count": null,
   "metadata": {},
   "outputs": [],
   "source": [
    "import numpy as np\n",
    "import matplotlib.pyplot as plt\n",
    "\n",
    "# Input data\n",
    "apples = [30, 25, 22, 36, 21, 29]\n",
    "oranges = [24, 33, 19, 27, 35, 20]\n",
    "\n",
    "# Number of groups\n",
    "num_groups = len(apples)\n",
    "\n",
    "# Create the figure\n",
    "fig, ax = plt.subplots()\n",
    "\n",
    "# Define the X axis\n",
    "indices = np.arange(num_groups)\n",
    "\n",
    "# Width and opacity of histogram bars\n",
    "bar_width = 0.4\n",
    "opacity = 0.6\n",
    "\n",
    "# Plot the values\n",
    "hist_apples = plt.bar(indices, apples, bar_width, \n",
    "        alpha=opacity, color='g', label='Apples')\n",
    "\n",
    "hist_oranges = plt.bar(indices + bar_width, oranges, bar_width,\n",
    "        alpha=opacity, color='b', label='Oranges')\n",
    "\n",
    "plt.xlabel('Month')\n",
    "plt.ylabel('Production quantity')\n",
    "plt.title('Comparing apples and oranges')\n",
    "plt.xticks(indices + bar_width, ('Jan', 'Feb', 'Mar', 'Apr', 'May', 'Jun'))\n",
    "plt.ylim([0, 45])\n",
    "plt.legend()\n",
    "plt.tight_layout()\n",
    "\n",
    "plt.show()\n",
    "\n"
   ]
  },
  {
   "cell_type": "code",
   "execution_count": null,
   "metadata": {},
   "outputs": [],
   "source": []
  }
 ],
 "metadata": {
  "kernelspec": {
   "display_name": "Python 3",
   "language": "python",
   "name": "python3"
  },
  "language_info": {
   "codemirror_mode": {
    "name": "ipython",
    "version": 3
   },
   "file_extension": ".py",
   "mimetype": "text/x-python",
   "name": "python",
   "nbconvert_exporter": "python",
   "pygments_lexer": "ipython3",
   "version": "3.9.6"
  }
 },
 "nbformat": 4,
 "nbformat_minor": 4
}

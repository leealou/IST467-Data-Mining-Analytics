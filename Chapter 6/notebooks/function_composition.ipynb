{
 "cells": [
  {
   "cell_type": "code",
   "execution_count": null,
   "metadata": {},
   "outputs": [],
   "source": [
    "import numpy as np\n",
    "from functools import reduce\n",
    "\n",
    "def add3(input_array):\n",
    "    return map(lambda x: x+3, input_array)\n",
    "\n",
    "def mul2(input_array):\n",
    "    return map(lambda x: x*2, input_array)\n",
    "\n",
    "def sub5(input_array):\n",
    "    return map(lambda x: x-5, input_array)\n",
    "\n",
    "def function_composer(*args):\n",
    "    return reduce(lambda f, g: lambda x: f(g(x)), args)\n",
    "\n",
    "if __name__=='__main__':\n",
    "    arr = np.array([2,5,4,7])\n",
    "\n",
    "    print(\"Operation: add3(mul2(sub5(arr)))\")\n",
    "    \n",
    "    arr1 = add3(arr)\n",
    "    arr2 = mul2(arr1)\n",
    "    arr3 = sub5(arr2)\n",
    "    print(\"Output using the lengthy way:\", list(arr3))\n",
    "\n",
    "    func_composed = function_composer(sub5, mul2, add3)\n",
    "    print(\"Output using function composition:\", list(func_composed(arr))) \n",
    "\n",
    "    print(\"Operation: sub5(add3(mul2(sub5(mul2(arr)))))\\nOutput:\", \\\n",
    "            list(function_composer(mul2, sub5, mul2, add3, sub5)(arr)))"
   ]
  },
  {
   "cell_type": "code",
   "execution_count": null,
   "metadata": {},
   "outputs": [],
   "source": []
  }
 ],
 "metadata": {
  "kernelspec": {
   "display_name": "Python 3",
   "language": "python",
   "name": "python3"
  },
  "language_info": {
   "codemirror_mode": {
    "name": "ipython",
    "version": 3
   },
   "file_extension": ".py",
   "mimetype": "text/x-python",
   "name": "python",
   "nbconvert_exporter": "python",
   "pygments_lexer": "ipython3",
   "version": "3.9.6"
  }
 },
 "nbformat": 4,
 "nbformat_minor": 4
}

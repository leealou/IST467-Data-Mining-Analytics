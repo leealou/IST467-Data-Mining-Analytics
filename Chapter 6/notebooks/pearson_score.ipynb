{
 "cells": [
  {
   "cell_type": "code",
   "execution_count": null,
   "metadata": {},
   "outputs": [],
   "source": [
    "import json\n",
    "import numpy as np\n",
    "\n",
    "# Returns the Pearson correlation score between user1 and user2 \n",
    "def pearson_score(dataset, user1, user2):\n",
    "    if user1 not in dataset:\n",
    "        raise TypeError('User ' + user1 + ' not present in the dataset')\n",
    "\n",
    "    if user2 not in dataset:\n",
    "        raise TypeError('User ' + user2 + ' not present in the dataset')\n",
    "\n",
    "    # Movies rated by both user1 and user2\n",
    "    rated_by_both = {}\n",
    "\n",
    "    for item in dataset[user1]:\n",
    "        if item in dataset[user2]:\n",
    "            rated_by_both[item] = 1\n",
    "\n",
    "    num_ratings = len(rated_by_both) \n",
    "\n",
    "    # If there are no common movies, the score is 0 \n",
    "    if num_ratings == 0:\n",
    "        return 0\n",
    "\n",
    "    # Compute the sum of ratings of all the common preferences \n",
    "    user1_sum = np.sum([dataset[user1][item] for item in rated_by_both])\n",
    "    user2_sum = np.sum([dataset[user2][item] for item in rated_by_both])\n",
    "\n",
    "    # Compute the sum of squared ratings of all the common preferences \n",
    "    user1_squared_sum = np.sum([np.square(dataset[user1][item]) for item in rated_by_both])\n",
    "    user2_squared_sum = np.sum([np.square(dataset[user2][item]) for item in rated_by_both])\n",
    "\n",
    "    # Compute the sum of products of the common ratings \n",
    "    product_sum = np.sum([dataset[user1][item] * dataset[user2][item] for item in rated_by_both])\n",
    "\n",
    "    # Compute the Pearson correlation\n",
    "    Sxy = product_sum - (user1_sum * user2_sum / num_ratings)\n",
    "    Sxx = user1_squared_sum - np.square(user1_sum) / num_ratings\n",
    "    Syy = user2_squared_sum - np.square(user2_sum) / num_ratings\n",
    "    \n",
    "    if Sxx * Syy == 0:\n",
    "        return 0\n",
    "\n",
    "    return Sxy / np.sqrt(Sxx * Syy)\n",
    "\n",
    "if __name__=='__main__':\n",
    "    data_file = '../data/source/movie_ratings.json'\n",
    "\n",
    "    with open(data_file, 'r') as f:\n",
    "        data = json.loads(f.read())\n",
    "\n",
    "    user1 = 'John Carson'\n",
    "    user2 = 'Michelle Peterson'\n",
    "\n",
    "    print(\"Pearson score:\")\n",
    "    print(pearson_score(data, user1, user2)) \n"
   ]
  },
  {
   "cell_type": "code",
   "execution_count": null,
   "metadata": {},
   "outputs": [],
   "source": []
  }
 ],
 "metadata": {
  "kernelspec": {
   "display_name": "Python 3",
   "language": "python",
   "name": "python3"
  },
  "language_info": {
   "codemirror_mode": {
    "name": "ipython",
    "version": 3
   },
   "file_extension": ".py",
   "mimetype": "text/x-python",
   "name": "python",
   "nbconvert_exporter": "python",
   "pygments_lexer": "ipython3",
   "version": "3.9.6"
  }
 },
 "nbformat": 4,
 "nbformat_minor": 4
}

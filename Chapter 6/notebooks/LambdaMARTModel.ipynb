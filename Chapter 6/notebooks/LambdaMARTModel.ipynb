{
 "cells": [
  {
   "cell_type": "code",
   "execution_count": null,
   "metadata": {},
   "outputs": [],
   "source": [
    "#C:\\Users\\STU_ID or Your Name\\AppData\\Local\\Programs\\Python\\Python39\\Lib\\site-packages\\pyltr\\models\n",
    "#Find lambdamart.py\n",
    "#Remove presort=True and close your app. Run the program again.\n",
    "import pyltr\n",
    "\n",
    "with open('../data/source/train.txt') as trainfile, \\\n",
    "        open('../data/source/vali.txt') as valifile, \\\n",
    "        open('../data/source/test.txt') as testfile:\n",
    "    TrainX, Trainy, Trainqids, _ = pyltr.data.letor.read_dataset(trainfile)\n",
    "    ValX, Valy, Valqids, _ = pyltr.data.letor.read_dataset(valifile)\n",
    "    TestX, Testy, Testqids, _ = pyltr.data.letor.read_dataset(testfile)\n",
    "    metric = pyltr.metrics.NDCG(k=10)\n",
    "\n",
    "# Only needed if you want to perform validation (early stopping & trimming)\n",
    "monitor = pyltr.models.monitors.ValidationMonitor(\n",
    "    ValX, Valy, Valqids, metric=metric, stop_after=250)\n",
    "\n",
    "model = pyltr.models.LambdaMART(\n",
    "    metric=metric,\n",
    "    n_estimators=1000,\n",
    "    learning_rate=0.02,\n",
    "    max_features=0.5,\n",
    "    query_subsample=0.5,\n",
    "    max_leaf_nodes=10,\n",
    "    min_samples_leaf=64,\n",
    "    verbose=1,\n",
    ")\n",
    "\n",
    "model.fit(TestX, Testy, Testqids, monitor=monitor)\n",
    "\n",
    "Testpred = model.predict(TestX)\n",
    "print('Random ranking:', metric.calc_mean_random(Testqids, Testy))\n",
    "print('Our model:', metric.calc_mean(Testqids, Testy, Testpred))\n"
   ]
  },
  {
   "cell_type": "code",
   "execution_count": null,
   "metadata": {},
   "outputs": [],
   "source": []
  }
 ],
 "metadata": {
  "kernelspec": {
   "display_name": "Python 3",
   "language": "python",
   "name": "python3"
  },
  "language_info": {
   "codemirror_mode": {
    "name": "ipython",
    "version": 3
   },
   "file_extension": ".py",
   "mimetype": "text/x-python",
   "name": "python",
   "nbconvert_exporter": "python",
   "pygments_lexer": "ipython3",
   "version": "3.9.6"
  }
 },
 "nbformat": 4,
 "nbformat_minor": 4
}

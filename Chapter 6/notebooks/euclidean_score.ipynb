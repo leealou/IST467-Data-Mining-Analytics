{
 "cells": [
  {
   "cell_type": "code",
   "execution_count": null,
   "metadata": {},
   "outputs": [],
   "source": [
    "import json\n",
    "import numpy as np\n",
    " \n",
    "# Returns the Euclidean distance score between user1 and user2 \n",
    "def euclidean_score(dataset, user1, user2):\n",
    "    if user1 not in dataset:\n",
    "        raise TypeError('User ' + user1 + ' not present in the dataset')\n",
    "\n",
    "    if user2 not in dataset:\n",
    "        raise TypeError('User ' + user2 + ' not present in the dataset')\n",
    "\n",
    "    # Movies rated by both user1 and user2\n",
    "    rated_by_both = {} \n",
    "\n",
    "    for item in dataset[user1]:\n",
    "        if item in dataset[user2]:\n",
    "            rated_by_both[item] = 1\n",
    "\n",
    "    # If there are no common movies, the score is 0 \n",
    "    if len(rated_by_both) == 0:\n",
    "        return 0\n",
    "\n",
    "    squared_differences = [] \n",
    "\n",
    "    for item in dataset[user1]:\n",
    "        if item in dataset[user2]:\n",
    "            squared_differences.append(np.square(dataset[user1][item] - dataset[user2][item]))\n",
    "        \n",
    "    return 1 / (1 + np.sqrt(np.sum(squared_differences))) \n",
    "\n",
    "if __name__=='__main__':\n",
    "    data_file = '../data/source/movie_ratings.json'\n",
    "\n",
    "    with open(data_file, 'r') as f:\n",
    "        data = json.loads(f.read())\n",
    "\n",
    "    user1 = 'John Carson'\n",
    "    user2 = 'Michelle Peterson'\n",
    "\n",
    "    print(\"Euclidean score:\")\n",
    "    print(euclidean_score(data, user1, user2)) \n"
   ]
  },
  {
   "cell_type": "code",
   "execution_count": null,
   "metadata": {},
   "outputs": [],
   "source": []
  }
 ],
 "metadata": {
  "kernelspec": {
   "display_name": "Python 3",
   "language": "python",
   "name": "python3"
  },
  "language_info": {
   "codemirror_mode": {
    "name": "ipython",
    "version": 3
   },
   "file_extension": ".py",
   "mimetype": "text/x-python",
   "name": "python",
   "nbconvert_exporter": "python",
   "pygments_lexer": "ipython3",
   "version": "3.9.6"
  }
 },
 "nbformat": 4,
 "nbformat_minor": 4
}

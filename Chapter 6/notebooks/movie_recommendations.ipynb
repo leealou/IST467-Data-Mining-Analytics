{
 "cells": [
  {
   "cell_type": "code",
   "execution_count": null,
   "metadata": {},
   "outputs": [],
   "source": [
    "import json\n",
    "import numpy as np\n",
    "\n",
    "from pearson_score import pearson_score\n",
    "\n",
    "# Generate recommendations for a given user\n",
    "def generate_recommendations(dataset, user):\n",
    "    if user not in dataset:\n",
    "        raise TypeError('User ' + user + ' not present in the dataset')\n",
    "\n",
    "    total_scores = {}\n",
    "    similarity_sums = {}\n",
    "\n",
    "    for u in [x for x in dataset if x != user]:\n",
    "        similarity_score = pearson_score(dataset, user, u)\n",
    "\n",
    "        if similarity_score <= 0:\n",
    "            continue\n",
    "\n",
    "        for item in [x for x in dataset[u] if x not in dataset[user] or dataset[user][x] == 0]:\n",
    "            total_scores.update({item: dataset[u][item] * similarity_score})\n",
    "            similarity_sums.update({item: similarity_score})\n",
    "\n",
    "    if len(total_scores) == 0:\n",
    "        return ['No recommendations possible']\n",
    "\n",
    "    # Create the normalized list\n",
    "    movie_ranks = np.array([[total/similarity_sums[item], item] \n",
    "            for item, total in total_scores.items()])\n",
    "\n",
    "    # Sort in decreasing order based on the first column\n",
    "    movie_ranks = movie_ranks[np.argsort(movie_ranks[:, 0])[::-1]]\n",
    "\n",
    "    # Extract the recommended movies\n",
    "    recommendations = [movie for _, movie in movie_ranks]\n",
    "\n",
    "    return recommendations\n",
    " \n",
    "if __name__=='__main__':\n",
    "    data_file = '../data/source/movie_ratings.json'\n",
    "\n",
    "    with open(data_file, 'r') as f:\n",
    "        data = json.loads(f.read())\n",
    "\n",
    "    user = 'Michael Henry'\n",
    "    print(\"Recommendations for \" + user + \":\")\n",
    "    movies = generate_recommendations(data, user) \n",
    "    for i, movie in enumerate(movies):\n",
    "        print(str(i+1) + '. ' + movie)\n",
    "\n",
    "    user = 'John Carson' \n",
    "    print(\"Recommendations for \" + user + \":\")\n",
    "    movies = generate_recommendations(data, user) \n",
    "    for i, movie in enumerate(movies):\n",
    "        print(str(i+1) + '. ' + movie)\n"
   ]
  },
  {
   "cell_type": "code",
   "execution_count": null,
   "metadata": {},
   "outputs": [],
   "source": []
  }
 ],
 "metadata": {
  "kernelspec": {
   "display_name": "Python 3",
   "language": "python",
   "name": "python3"
  },
  "language_info": {
   "codemirror_mode": {
    "name": "ipython",
    "version": 3
   },
   "file_extension": ".py",
   "mimetype": "text/x-python",
   "name": "python",
   "nbconvert_exporter": "python",
   "pygments_lexer": "ipython3",
   "version": "3.9.6"
  }
 },
 "nbformat": 4,
 "nbformat_minor": 4
}

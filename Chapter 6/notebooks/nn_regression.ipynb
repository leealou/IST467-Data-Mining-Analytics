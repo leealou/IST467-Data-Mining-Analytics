{
 "cells": [
  {
   "cell_type": "code",
   "execution_count": null,
   "metadata": {},
   "outputs": [],
   "source": [
    "import numpy as np\n",
    "import matplotlib.pyplot as plt\n",
    "from sklearn import neighbors\n",
    "\n",
    "# Generate sample data\n",
    "amplitude = 10\n",
    "num_points = 100\n",
    "X = amplitude * np.random.rand(num_points, 1) - 0.5 * amplitude\n",
    "\n",
    "# Compute target and add noise\n",
    "y = np.sinc(X).ravel() \n",
    "y += 0.2 * (0.5 - np.random.rand(y.size))\n",
    "\n",
    "# Plot input data\n",
    "plt.figure()\n",
    "plt.scatter(X, y, s=40, c='k', facecolors='none')\n",
    "plt.title('Input data')\n",
    "plt.savefig('figure1.pdf', format='pdf', dpi=1000)\n",
    "# Create the 1D grid with 10 times the density of the input data\n",
    "x_values = np.linspace(-0.5*amplitude, 0.5*amplitude, 10*num_points)[:, np.newaxis]\n",
    "\n",
    "# Number of neighbors to consider \n",
    "n_neighbors = 8\n",
    "\n",
    "# Define and train the regressor\n",
    "knn_regressor = neighbors.KNeighborsRegressor(n_neighbors, weights='distance')\n",
    "y_values = knn_regressor.fit(X, y).predict(x_values)\n",
    "\n",
    "plt.figure()\n",
    "plt.scatter(X, y, s=40, c='k', facecolors='none', label='input data')\n",
    "plt.plot(x_values, y_values, c='k', linestyle='--', label='predicted values')\n",
    "plt.xlim(X.min() - 1, X.max() + 1)\n",
    "plt.ylim(y.min() - 0.2, y.max() + 0.2)\n",
    "plt.axis('tight')\n",
    "plt.legend()\n",
    "plt.title('K Nearest Neighbors Regressor')\n",
    "\n",
    "plt.show()\n",
    "plt.savefig('figure2.pdf', format='pdf', dpi=1000)\n"
   ]
  },
  {
   "cell_type": "code",
   "execution_count": null,
   "metadata": {},
   "outputs": [],
   "source": []
  }
 ],
 "metadata": {
  "kernelspec": {
   "display_name": "Python 3",
   "language": "python",
   "name": "python3"
  },
  "language_info": {
   "codemirror_mode": {
    "name": "ipython",
    "version": 3
   },
   "file_extension": ".py",
   "mimetype": "text/x-python",
   "name": "python",
   "nbconvert_exporter": "python",
   "pygments_lexer": "ipython3",
   "version": "3.9.6"
  }
 },
 "nbformat": 4,
 "nbformat_minor": 4
}

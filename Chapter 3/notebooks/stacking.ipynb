{
 "cells": [
  {
   "cell_type": "code",
   "execution_count": null,
   "metadata": {},
   "outputs": [],
   "source": [
    "# load boston dataset from sklearn\n",
    "# Pip install heamy\n",
    "from heamy.dataset import Dataset\n",
    "from heamy.estimator import Regressor\n",
    "from heamy.pipeline import ModelsPipeline\n",
    "\n",
    "from sklearn.datasets import load_boston\n",
    "from sklearn.model_selection import train_test_split\n",
    "from sklearn.ensemble import RandomForestRegressor\n",
    "from sklearn.linear_model import LinearRegression\n",
    "from sklearn.metrics import mean_absolute_error\n",
    "data = load_boston()\n",
    "X, y = data['data'], data['target']\n",
    "X_train, X_test, y_train, y_test = train_test_split(X, y, test_size=0.1, random_state=2)\n",
    "\n",
    "# create dataset\n",
    "Data = Dataset(X_train,y_train,X_test)\n",
    "\n",
    "# initialize RandomForest & LinearRegression\n",
    "RfModel = Regressor(dataset=Data, estimator=RandomForestRegressor, parameters={'n_estimators': 50},name='rf')\n",
    "LRModel = Regressor(dataset=Data, estimator=LinearRegression, parameters={'normalize': True},name='lr')\n",
    "\n",
    "\n",
    "# Stack two models\n",
    "# Returns new dataset with out-of-fold predictions\n",
    "Pipeline = ModelsPipeline(RfModel,LRModel)\n",
    "StackModel = Pipeline.stack(k=10,seed=2)\n",
    "\n",
    "# Train LinearRegression on stacked data (second stage)\n",
    "Stacker = Regressor(dataset=StackModel, estimator=LinearRegression)\n",
    "Results = Stacker.predict()\n",
    "# Validate results using 10 fold cross-validation\n",
    "Results = Stacker.validate(k=10,scorer=mean_absolute_error)\n"
   ]
  },
  {
   "cell_type": "code",
   "execution_count": null,
   "metadata": {},
   "outputs": [],
   "source": []
  }
 ],
 "metadata": {
  "kernelspec": {
   "display_name": "Python 3",
   "language": "python",
   "name": "python3"
  },
  "language_info": {
   "codemirror_mode": {
    "name": "ipython",
    "version": 3
   },
   "file_extension": ".py",
   "mimetype": "text/x-python",
   "name": "python",
   "nbconvert_exporter": "python",
   "pygments_lexer": "ipython3",
   "version": "3.9.6"
  }
 },
 "nbformat": 4,
 "nbformat_minor": 4
}

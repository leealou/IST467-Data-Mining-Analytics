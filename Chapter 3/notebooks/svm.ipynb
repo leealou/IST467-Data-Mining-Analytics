{
 "cells": [
  {
   "cell_type": "code",
   "execution_count": null,
   "metadata": {},
   "outputs": [],
   "source": [
    "import numpy as np\n",
    "import matplotlib.pyplot as plt\n",
    "import utilities \n",
    "\n",
    "# Load input data\n",
    "input_file = '../data/source/data_multivar.txt'\n",
    "X, y = utilities.load_data(input_file)\n",
    "\n",
    "###############################################\n",
    "# Separate the data into classes based on 'y'\n",
    "class_0 = np.array([X[i] for i in range(len(X)) if y[i]==0])\n",
    "class_1 = np.array([X[i] for i in range(len(X)) if y[i]==1])\n",
    "\n",
    "# Plot the input data\n",
    "plt.figure()\n",
    "plt.scatter(class_0[:,0], class_0[:,1], facecolors='black', edgecolors='black', marker='s')\n",
    "plt.scatter(class_1[:,0], class_1[:,1], facecolors='None', edgecolors='black', marker='s')\n",
    "plt.title('Input data')\n",
    "\n",
    "###############################################\n",
    "# Train test split and SVM training\n",
    "from sklearn import model_selection\n",
    "from sklearn.svm import SVC\n",
    "\n",
    "X_train, X_test, y_train, y_test = model_selection.train_test_split(X, y, test_size=0.25, random_state=5)\n",
    "\n",
    "#params = {'kernel': 'linear'}\n",
    "#params = {'kernel': 'poly', 'degree': 3}\n",
    "params = {'kernel': 'rbf'}\n",
    "classifier = SVC(**params, gamma='auto')\n",
    "classifier.fit(X_train, y_train)\n",
    "utilities.plot_classifier(classifier, X_train, y_train, 'Training dataset')\n",
    "\n",
    "y_test_pred = classifier.predict(X_test)\n",
    "utilities.plot_classifier(classifier, X_test, y_test, 'Test dataset')\n",
    "\n",
    "###############################################\n",
    "# Evaluate classifier performance\n",
    "\n",
    "from sklearn.metrics import classification_report\n",
    "\n",
    "target_names = ['Class-' + str(int(i)) for i in set(y)]\n",
    "print(\"\\n\" + \"#\"*30)\n",
    "print(\"\\nClassifier performance on training dataset\\n\")\n",
    "print(classification_report(y_train, classifier.predict(X_train), target_names=target_names))\n",
    "print(\"#\"*30 + \"\\n\")\n",
    "\n",
    "print(\"#\"*30)\n",
    "print(\"\\nClassification report on test dataset\\n\")\n",
    "print(classification_report(y_test, y_test_pred, target_names=target_names))\n",
    "print(\"#\"*30 + \"\\n\")\n",
    "\n",
    "plt.show()"
   ]
  },
  {
   "cell_type": "code",
   "execution_count": null,
   "metadata": {},
   "outputs": [],
   "source": []
  }
 ],
 "metadata": {
  "kernelspec": {
   "display_name": "Python 3",
   "language": "python",
   "name": "python3"
  },
  "language_info": {
   "codemirror_mode": {
    "name": "ipython",
    "version": 3
   },
   "file_extension": ".py",
   "mimetype": "text/x-python",
   "name": "python",
   "nbconvert_exporter": "python",
   "pygments_lexer": "ipython3",
   "version": "3.9.6"
  }
 },
 "nbformat": 4,
 "nbformat_minor": 4
}

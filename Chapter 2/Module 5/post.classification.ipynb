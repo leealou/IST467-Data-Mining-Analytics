{
 "cells": [
  {
   "cell_type": "code",
   "execution_count": 1,
   "metadata": {},
   "outputs": [
    {
     "name": "stdout",
     "output_type": "stream",
     "text": [
      "['rec.sport.baseball', 'rec.sport.hockey']\n",
      "1197\n",
      "1197\n",
      "(1197, 18571)\n",
      "Accuracy of the classifier = 99.67 %\n"
     ]
    }
   ],
   "source": [
    "from sklearn.datasets import fetch_20newsgroups\n",
    "\n",
    "NewsClass = ['rec.sport.baseball', 'rec.sport.hockey']\n",
    "\n",
    "DataTrain = fetch_20newsgroups(subset='train',categories=NewsClass, shuffle=True, random_state=42)\n",
    "\n",
    "print(DataTrain.target_names)\n",
    "\n",
    "print(len(DataTrain.data))\n",
    "print(len(DataTrain.target))\n",
    "\n",
    "from sklearn.feature_extraction.text import CountVectorizer\n",
    "\n",
    "CountVect = CountVectorizer()\n",
    "XTrainCounts = CountVect.fit_transform(DataTrain.data)\n",
    "print(XTrainCounts.shape)\n",
    "\n",
    "from sklearn.feature_extraction.text import TfidfTransformer\n",
    "TfTransformer = TfidfTransformer(use_idf=False).fit(XTrainCounts)\n",
    "XTrainNew = TfTransformer.transform(XTrainCounts)\n",
    "\n",
    "TfidfTransformer = TfidfTransformer()\n",
    "XTrainNewidf = TfidfTransformer.fit_transform(XTrainCounts)\n",
    "\n",
    "\n",
    "from sklearn.naive_bayes import MultinomialNB\n",
    "NBMultiClassifier = MultinomialNB().fit(XTrainNewidf, DataTrain.target)\n",
    "\n",
    "NewsClassPred = NBMultiClassifier.predict(XTrainNewidf)\n",
    "\n",
    "# compute accuracy of the classifier\n",
    "accuracy = 100.0 * (DataTrain.target == NewsClassPred).sum() / XTrainNewidf.shape[0]\n",
    "print(\"Accuracy of the classifier =\", round(accuracy, 2), \"%\")\n",
    "\n"
   ]
  },
  {
   "cell_type": "code",
   "execution_count": null,
   "metadata": {},
   "outputs": [],
   "source": []
  }
 ],
 "metadata": {
  "kernelspec": {
   "display_name": "Python 3",
   "language": "python",
   "name": "python3"
  },
  "language_info": {
   "codemirror_mode": {
    "name": "ipython",
    "version": 3
   },
   "file_extension": ".py",
   "mimetype": "text/x-python",
   "name": "python",
   "nbconvert_exporter": "python",
   "pygments_lexer": "ipython3",
   "version": "3.9.6"
  }
 },
 "nbformat": 4,
 "nbformat_minor": 4
}

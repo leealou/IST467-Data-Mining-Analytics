{
 "cells": [
  {
   "cell_type": "code",
   "execution_count": null,
   "metadata": {},
   "outputs": [],
   "source": [
    "\n",
    "#  import the numpy and matplotlib.pyplot packages\n",
    "import numpy as np\n",
    "import matplotlib.pyplot as plt\n",
    "\n",
    "# creating sample input data\n",
    "X = np.array([[3,1], [2,5], [1,8], [6,4], [5,2], [3,5], [4,7], [4,-1]])\n",
    "\n",
    "# Assign labels to the above points: 0, 1, 1, 0, 0, 1, 1, 0\n",
    "# y= ? compelte the code\n",
    "\n",
    "# separate the data into classes based on 'y'\n",
    "# As we have only two classes, the y list contains 0's and 1's. In general, if you have N classes, \n",
    "# then the values in y will range from 0 to N-1. Let's separate the data into classes based on the labels:\n",
    "class_0 = np.array([X[i] for i in range(len(X)) if y[i]==0])\n",
    "class_1 = np.array([X[i] for i in range(len(X)) if y[i]==1])\n",
    "\n",
    "# plot input data\n",
    "# This is a scatterplot, where we use squares and crosses to plot the points. \n",
    "# In this context, the markerparameter specifies the shape you want to use. \n",
    "# We use squares to denote points in class_0 and crosses to denote points in class_1.\n",
    "plt.figure()\n",
    "plt.scatter(class_0[:,0], class_0[:,1], color='black', marker='s')\n",
    "plt.scatter(class_1[:,0], class_1[:,1], color='black', marker='x')\n",
    "plt.savefig('figura1.pdf', format='pdf', dpi=1000)\n",
    "\n",
    "# draw the separator line between them\n",
    "line_x = range(10)\n",
    "line_y = line_x\n",
    "\n",
    "# plot labeled data and separator line \n",
    "# We just created a line with the mathematical equation y = x. Let's plot it.\n",
    "plt.figure()\n",
    "plt.scatter(class_0[:,0], class_0[:,1], color='black', marker='s')\n",
    "plt.scatter(class_1[:,0], class_1[:,1], color='black', marker='x')\n",
    "plt.plot(line_x, line_y, color='black', linewidth=3)\n",
    "plt.show()\n"
   ]
  },
  {
   "cell_type": "code",
   "execution_count": null,
   "metadata": {},
   "outputs": [],
   "source": []
  }
 ],
 "metadata": {
  "kernelspec": {
   "display_name": "Python 3",
   "language": "python",
   "name": "python3"
  },
  "language_info": {
   "codemirror_mode": {
    "name": "ipython",
    "version": 3
   },
   "file_extension": ".py",
   "mimetype": "text/x-python",
   "name": "python",
   "nbconvert_exporter": "python",
   "pygments_lexer": "ipython3",
   "version": "3.9.6"
  }
 },
 "nbformat": 4,
 "nbformat_minor": 4
}

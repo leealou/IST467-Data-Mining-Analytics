{
 "cells": [
  {
   "cell_type": "code",
   "execution_count": null,
   "metadata": {},
   "outputs": [],
   "source": [
    "import numpy as np\n",
    "from sklearn import linear_model \n",
    "import matplotlib.pyplot as plt\n",
    "\n",
    "# input data\n",
    "#Create some sample data, along with training labels:\n",
    "#Assume that we have three classes (0, 1, and 2).\n",
    "X = np.array([[4, 7], [3.5, 8], [3.1, 6.2], [0.5, 1], [1, 2], [1.2, 1.9], [6, 2], [5.7, 1.5], [5.4, 2.2]])\n",
    "y = np.array([0, 0, 0, 1, 1, 1, 2, 2, 2])\n",
    "\n",
    "# initialize the logistic regression classifier\n",
    "#Important input parameters: solver and C. \n",
    "#solver parameter: Specifies the type of solver that the algorithm will use to solve the system of equations. \n",
    "#C parameter: controls the regularization strength. A lower value indicates higher regularization strength.\n",
    "#Regularizations such as Ridge and Lasso reduce or shrink the coefficients in the resulting regression.\n",
    "#https://scikit-learn.org/stable/modules/generated/sklearn.linear_model.LogisticRegression.html\n",
    "\n",
    "\n",
    "#build the Logistic Regression model and set the parameters: solver, c, etc.\n",
    "classifier = # complete the code\n",
    "\n",
    "# train the classifier\n",
    "classifier.fit(X, y)\n",
    "\n",
    "# define ranges to plot the figure\n",
    "x_min, x_max = min(X[:, 0]) - 1.0, max(X[:, 0]) + 1.0\n",
    "y_min, y_max = min(X[:, 1]) - 1.0, max(X[:, 1]) + 1.0\n",
    "\n",
    "# denotes the step size that will be used in the mesh grid\n",
    "step_size = 0.01\n",
    "\n",
    "# In order to plot the boundaries, we need to evaluate the function across a grid of points and plot it. \n",
    "# define the mesh grid\n",
    "#The x_values and y_values variables contain the grid of points where the function will be evaluated.\n",
    "x_values, y_values = np.meshgrid(np.arange(x_min, x_max, step_size), np.arange(y_min, y_max, step_size))\n",
    "\n",
    "# compute the classifier output\n",
    "mesh_output = classifier.predict(np.c_[x_values.ravel(), y_values.ravel()])\n",
    "\n",
    "# reshape the array\n",
    "mesh_output = mesh_output.reshape(x_values.shape)\n",
    "\n",
    "# Plot the output using a colored plot \n",
    "plt.figure()\n",
    "\n",
    "# choose a color scheme you can find all the options \n",
    "#http://matplotlib.org/examples/color/colormaps_reference.html\n",
    "#https://chrisalbon.com/python/basics/set_the_color_of_a_matplotlib/\n",
    "plt.pcolormesh(x_values, y_values, mesh_output, cmap=plt.cm.gray, shading='auto')\n",
    "\n",
    "\n",
    "# Overlay the training points on the plot \n",
    "plt.scatter(X[:, 0], X[:, 1], c=y, s=80, edgecolors='black', linewidth=1, cmap=plt.cm.Paired)\n",
    "\n",
    "\n",
    "# specify the boundaries of the figure\n",
    "plt.xlim(x_values.min(), x_values.max())\n",
    "plt.ylim(y_values.min(), y_values.max())\n",
    "\n",
    "# specify the ticks on the X and Y axes\n",
    "# :: is the same as : and means select all indices along this axis.\n",
    "plt.xticks((np.arange(int(min(X[:, 0])-1), int(max(X[:, 0])+1), 1.0)))\n",
    "plt.yticks((np.arange(int(min(X[:, 1])-1), int(max(X[:, 1])+1), 1.0)))\n",
    "\n",
    "plt.show()\n",
    "\n",
    "    "
   ]
  },
  {
   "cell_type": "code",
   "execution_count": null,
   "metadata": {},
   "outputs": [],
   "source": [
    "import numpy as np\n",
    "x = np.array([0, 1, 2, 3, 4, 5, 6, 7, 8, 9])\n",
    "print(x[5:])\n"
   ]
  },
  {
   "cell_type": "code",
   "execution_count": null,
   "metadata": {},
   "outputs": [],
   "source": [
    "x = np.array([[[1],[2],[3]], [[4],[5],[6]]])\n",
    "print(x[:,0])\n",
    "print(x[:,1])\n"
   ]
  },
  {
   "cell_type": "code",
   "execution_count": null,
   "metadata": {},
   "outputs": [],
   "source": [
    "x=np.array([0, 1, 2, 3, 4])\n",
    "print([x[2::2]])"
   ]
  }
 ],
 "metadata": {
  "kernelspec": {
   "display_name": "Python 3",
   "language": "python",
   "name": "python3"
  },
  "language_info": {
   "codemirror_mode": {
    "name": "ipython",
    "version": 3
   },
   "file_extension": ".py",
   "mimetype": "text/x-python",
   "name": "python",
   "nbconvert_exporter": "python",
   "pygments_lexer": "ipython3",
   "version": "3.9.6"
  }
 },
 "nbformat": 4,
 "nbformat_minor": 4
}

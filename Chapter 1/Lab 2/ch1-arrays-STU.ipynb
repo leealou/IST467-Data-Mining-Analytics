{
 "cells": [
  {
   "cell_type": "code",
   "execution_count": null,
   "metadata": {},
   "outputs": [],
   "source": [
    "Univ=[\"Cleveland\", \"State\", \"University\"] #this is an inline comment\n",
    "print(\"print entire array:\", Univ)\n",
    "print(\"print first array element:\")\n",
    "print(\"print the length of array:\", len(Univ))\n",
    "\n",
    "#Looping array elements\n",
    "\n",
    "\n",
    "#adding array eleemnts\n",
    "Univ.append(\"super\")\n",
    "print(Univ)\n",
    "\n",
    "#removing array elements\n",
    "Univ.remove(\"super\")\n",
    "print(Univ)\n",
    "\n",
    "#use the pop() to remove an element frmo the arrary Univ.pop[3]\n"
   ]
  },
  {
   "cell_type": "code",
   "execution_count": null,
   "metadata": {},
   "outputs": [],
   "source": [
    "# array creation\n",
    "# Basedon the following code, import numpy as np\n",
    "data = np.array([[3, -1.5, 2, -5.4], [0, 4, -0.3, 2.1], [1, 3.3, -1.9, -4.3]])\n",
    "print(data)\n"
   ]
  },
  {
   "cell_type": "code",
   "execution_count": null,
   "metadata": {},
   "outputs": [],
   "source": [
    "# arrange() - create a one-dimensional array of equidistant values with numbers from 0 to 10\n",
    "NpArray1 = np.arange(20)\n",
    "print(NpArray1)\n"
   ]
  },
  {
   "cell_type": "code",
   "execution_count": null,
   "metadata": {},
   "outputs": [],
   "source": [
    "# create a numeric array from 0 to 50, with a step of 5 (using a predetermined step between successive values)\n",
    "NpArray2 = np.arange(10, 101, 10)\n",
    "print(NpArray2)\n"
   ]
  },
  {
   "cell_type": "code",
   "execution_count": null,
   "metadata": {},
   "outputs": [],
   "source": [
    "# arrange() - create a one-dimensional array of equidistant values with numbers from 0 to 10\n",
    "NpArray3 = np.linspace(0, 10, 50)\n",
    "print(NpArray3)\n"
   ]
  },
  {
   "cell_type": "code",
   "execution_count": null,
   "metadata": {},
   "outputs": [],
   "source": []
  }
 ],
 "metadata": {
  "kernelspec": {
   "display_name": "Python 3 (ipykernel)",
   "language": "python",
   "name": "python3"
  },
  "language_info": {
   "codemirror_mode": {
    "name": "ipython",
    "version": 3
   },
   "file_extension": ".py",
   "mimetype": "text/x-python",
   "name": "python",
   "nbconvert_exporter": "python",
   "pygments_lexer": "ipython3",
   "version": "3.10.2"
  },
  "widgets": {
   "application/vnd.jupyter.widget-state+json": {
    "state": {},
    "version_major": 2,
    "version_minor": 0
   }
  }
 },
 "nbformat": 4,
 "nbformat_minor": 4
}

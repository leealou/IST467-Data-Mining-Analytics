{
 "cells": [
  {
   "cell_type": "code",
   "execution_count": null,
   "metadata": {},
   "outputs": [],
   "source": [
    "# -*- coding: utf-8 -*-\n",
    "\"\"\"\n",
    "Data Preprocessing\n",
    "Standardization\n",
    "@author: Chih Hao Ku\n",
    "\"\"\"\n",
    "import numpy as np\n",
    "from sklearn import preprocessing\n",
    "\n",
    "data = np.array([[3, -1.5, 2, -5.4], [0, 4, -0.3, 2.1], [1, 3.3, -1.9, -4.3]])\n",
    "\n",
    "#original\n",
    "#parameter axis=0 (columns), axis=1 (rows)\n",
    "print(\"Mean: \",data.mean(axis=0))\n",
    "print(\"Standard Deviation: \",data.std(axis=0))\n",
    "\n",
    "#standarized\n",
    "data_standardized = preprocessing.scale(data)\n",
    "print(\"Mean Standardized: \",data_standardized.mean(axis=0))\n",
    "print(\"Standard Deviation Standardized: \",data_standardized.std(axis=0))\n",
    "\n",
    "\n",
    "\n"
   ]
  },
  {
   "cell_type": "code",
   "execution_count": null,
   "metadata": {},
   "outputs": [],
   "source": [
    "import numpy as np\n",
    "from matplotlib import pyplot as plt\n",
    "\n",
    "ys = 200 + np.random.randn(100)\n",
    "x = [x for x in range(len(ys))]\n",
    "\n",
    "plt.plot(x, ys, '-')\n",
    "plt.fill_between(x, ys, 195, where=(ys > 195), facecolor='r', alpha=0.7)\n",
    "\n",
    "plt.title(\"Sample Visualization\")\n",
    "plt.show()"
   ]
  },
  {
   "cell_type": "code",
   "execution_count": null,
   "metadata": {},
   "outputs": [],
   "source": []
  }
 ],
 "metadata": {
  "kernelspec": {
   "display_name": "Python 3 (ipykernel)",
   "language": "python",
   "name": "python3"
  },
  "language_info": {
   "codemirror_mode": {
    "name": "ipython",
    "version": 3
   },
   "file_extension": ".py",
   "mimetype": "text/x-python",
   "name": "python",
   "nbconvert_exporter": "python",
   "pygments_lexer": "ipython3",
   "version": "3.10.2"
  }
 },
 "nbformat": 4,
 "nbformat_minor": 4
}

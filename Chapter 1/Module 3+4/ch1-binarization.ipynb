{
 "cells": [
  {
   "cell_type": "code",
   "execution_count": 1,
   "metadata": {},
   "outputs": [
    {
     "ename": "ModuleNotFoundError",
     "evalue": "No module named 'numpy'",
     "output_type": "error",
     "traceback": [
      "\u001b[1;31m---------------------------------------------------------------------------\u001b[0m",
      "\u001b[1;31mModuleNotFoundError\u001b[0m                       Traceback (most recent call last)",
      "\u001b[1;32mc:\\Users\\Alexis\\OneDrive\\Documents\\GitHub\\IST467-Data-Mining-Analytics\\Chapter 1\\Module 3+4\\ch1-binarization.ipynb Cell 1'\u001b[0m in \u001b[0;36m<module>\u001b[1;34m\u001b[0m\n\u001b[0;32m      <a href='vscode-notebook-cell:/c%3A/Users/Alexis/OneDrive/Documents/GitHub/IST467-Data-Mining-Analytics/Chapter%201/Module%203%2B4/ch1-binarization.ipynb#ch0000000?line=0'>1</a>\u001b[0m \u001b[39m# -*- coding: utf-8 -*-\u001b[39;00m\n\u001b[0;32m      <a href='vscode-notebook-cell:/c%3A/Users/Alexis/OneDrive/Documents/GitHub/IST467-Data-Mining-Analytics/Chapter%201/Module%203%2B4/ch1-binarization.ipynb#ch0000000?line=1'>2</a>\u001b[0m \u001b[39m\"\"\"\u001b[39;00m\n\u001b[0;32m      <a href='vscode-notebook-cell:/c%3A/Users/Alexis/OneDrive/Documents/GitHub/IST467-Data-Mining-Analytics/Chapter%201/Module%203%2B4/ch1-binarization.ipynb#ch0000000?line=2'>3</a>\u001b[0m \u001b[39mCreated on Sun Jan 19 13:55:17 2020\u001b[39;00m\n\u001b[0;32m      <a href='vscode-notebook-cell:/c%3A/Users/Alexis/OneDrive/Documents/GitHub/IST467-Data-Mining-Analytics/Chapter%201/Module%203%2B4/ch1-binarization.ipynb#ch0000000?line=3'>4</a>\u001b[0m \u001b[39mData Preprocessing\u001b[39;00m\n\u001b[0;32m      <a href='vscode-notebook-cell:/c%3A/Users/Alexis/OneDrive/Documents/GitHub/IST467-Data-Mining-Analytics/Chapter%201/Module%203%2B4/ch1-binarization.ipynb#ch0000000?line=4'>5</a>\u001b[0m \u001b[39m@author: Chih-Hao Ku\u001b[39;00m\n\u001b[0;32m      <a href='vscode-notebook-cell:/c%3A/Users/Alexis/OneDrive/Documents/GitHub/IST467-Data-Mining-Analytics/Chapter%201/Module%203%2B4/ch1-binarization.ipynb#ch0000000?line=5'>6</a>\u001b[0m \u001b[39m\"\"\"\u001b[39;00m\n\u001b[1;32m----> <a href='vscode-notebook-cell:/c%3A/Users/Alexis/OneDrive/Documents/GitHub/IST467-Data-Mining-Analytics/Chapter%201/Module%203%2B4/ch1-binarization.ipynb#ch0000000?line=6'>7</a>\u001b[0m \u001b[39mimport\u001b[39;00m \u001b[39mnumpy\u001b[39;00m \u001b[39mas\u001b[39;00m \u001b[39mnp\u001b[39;00m\n\u001b[0;32m      <a href='vscode-notebook-cell:/c%3A/Users/Alexis/OneDrive/Documents/GitHub/IST467-Data-Mining-Analytics/Chapter%201/Module%203%2B4/ch1-binarization.ipynb#ch0000000?line=7'>8</a>\u001b[0m \u001b[39mfrom\u001b[39;00m \u001b[39msklearn\u001b[39;00m \u001b[39mimport\u001b[39;00m preprocessing\n\u001b[0;32m     <a href='vscode-notebook-cell:/c%3A/Users/Alexis/OneDrive/Documents/GitHub/IST467-Data-Mining-Analytics/Chapter%201/Module%203%2B4/ch1-binarization.ipynb#ch0000000?line=9'>10</a>\u001b[0m data \u001b[39m=\u001b[39m np\u001b[39m.\u001b[39marray([[\u001b[39m3\u001b[39m, \u001b[39m-\u001b[39m\u001b[39m1.5\u001b[39m, \u001b[39m2\u001b[39m, \u001b[39m-\u001b[39m\u001b[39m5.4\u001b[39m], [\u001b[39m0\u001b[39m, \u001b[39m4\u001b[39m, \u001b[39m-\u001b[39m\u001b[39m0.3\u001b[39m, \u001b[39m2.1\u001b[39m], [\u001b[39m1\u001b[39m, \u001b[39m3.3\u001b[39m, \u001b[39m-\u001b[39m\u001b[39m1.9\u001b[39m, \u001b[39m-\u001b[39m\u001b[39m4.3\u001b[39m]])\n",
      "\u001b[1;31mModuleNotFoundError\u001b[0m: No module named 'numpy'"
     ]
    }
   ],
   "source": [
    "# -*- coding: utf-8 -*-\n",
    "\"\"\"\n",
    "Created on Sun Jan 19 13:55:17 2020\n",
    "Data Preprocessing\n",
    "@author: Chih-Hao Ku\n",
    "\"\"\"\n",
    "import numpy as np\n",
    "from sklearn import preprocessing\n",
    "\n",
    "data = np.array([[3, -1.5, 2, -5.4], [0, 4, -0.3, 2.1], [1, 3.3, -1.9, -4.3]])\n",
    "\n",
    "#function binarizes data according to an imposed threshold\n",
    "#The threshold imposed is 1.4, so values greater than 1.4 are mapped to 1, while values less than 1.4 are mapped to 0.\n",
    "data_binarized = preprocessing.Binarizer(threshold=1.9).transform(data)\n",
    "\n",
    "print(data_binarized)\n"
   ]
  }
 ],
 "metadata": {
  "kernelspec": {
   "display_name": "Python 3",
   "language": "python",
   "name": "python3"
  },
  "language_info": {
   "codemirror_mode": {
    "name": "ipython",
    "version": 3
   },
   "file_extension": ".py",
   "mimetype": "text/x-python",
   "name": "python",
   "nbconvert_exporter": "python",
   "pygments_lexer": "ipython3",
   "version": "3.10.2"
  }
 },
 "nbformat": 4,
 "nbformat_minor": 4
}

{
 "cells": [
  {
   "cell_type": "code",
   "execution_count": 2,
   "metadata": {},
   "outputs": [
    {
     "name": "stdout",
     "output_type": "stream",
     "text": [
      "Class mapping: \n",
      "audi --> 0\n",
      "bmw --> 1\n",
      "ford --> 2\n",
      "tesla --> 3\n",
      "toyota --> 4\n",
      "Labels = ['toyota', 'ford', 'audi', 'tesla']\n",
      "Encoded labels = [4, 2, 0, 3]\n",
      "Encoded labels = [2, 1, 0, 3, 1]\n",
      "Decoded labels = ['ford', 'bmw', 'audi', 'tesla', 'bmw']\n"
     ]
    }
   ],
   "source": [
    "from sklearn import preprocessing\n",
    "\n",
    "#To encode labels with a value between 0 and n_classes -1, the preprocessing.LabelEncoder() function can be used. \n",
    "label_encoder = preprocessing.LabelEncoder()\n",
    "\n",
    "#create some labels\n",
    "input_classes = ['audi', 'ford', 'audi', 'toyota', 'ford', 'bmw', 'tesla']\n",
    "# fit() function to fit the label encoder and the class mapping encoders are printed. \n",
    "#Enumerate() method adds a counter to an iterable and returns it in a form of enumerate object.\n",
    "label_encoder.fit(input_classes)\n",
    "print(\"Class mapping: \")\n",
    "for i, item in enumerate(label_encoder.classes_):\n",
    "    print(item, \"-->\", i)\n",
    "    \n",
    "#When you have a set of labels, you can simply transform them, as follows:    \n",
    "labels = ['toyota', 'ford', 'audi', 'tesla']\n",
    "encoded_labels = label_encoder.transform(labels)\n",
    "print(\"Labels =\", labels)\n",
    "print(\"Encoded labels =\", list(encoded_labels))\n",
    "\n",
    "#Check the correctness by transforming numbers back into word labels\n",
    "encoded_labels = [2, 1, 0, 3, 1]\n",
    "decoded_labels = label_encoder.inverse_transform(encoded_labels)\n",
    "print(\"Encoded labels =\", encoded_labels)\n",
    "print(\"Decoded labels =\", list(decoded_labels))\n"
   ]
  },
  {
   "cell_type": "code",
   "execution_count": null,
   "metadata": {},
   "outputs": [],
   "source": []
  }
 ],
 "metadata": {
  "kernelspec": {
   "display_name": "Python 3",
   "language": "python",
   "name": "python3"
  },
  "language_info": {
   "codemirror_mode": {
    "name": "ipython",
    "version": 3
   },
   "file_extension": ".py",
   "mimetype": "text/x-python",
   "name": "python",
   "nbconvert_exporter": "python",
   "pygments_lexer": "ipython3",
   "version": "3.9.6"
  }
 },
 "nbformat": 4,
 "nbformat_minor": 4
}

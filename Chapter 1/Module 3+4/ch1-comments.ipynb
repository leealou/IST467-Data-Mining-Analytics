{
 "cells": [
  {
   "cell_type": "code",
<<<<<<< HEAD
   "execution_count": 1,
   "metadata": {},
   "outputs": [
    {
     "name": "stdout",
     "output_type": "stream",
     "text": [
      "Hello, World!\n"
     ]
    }
   ],
=======
   "execution_count": null,
   "metadata": {},
   "outputs": [],
>>>>>>> a3e2c224e4cff81ad9a3a63d2768825e4396bf75
   "source": [
    "\"\"\"\n",
    "This is a comment block\n",
    "Jupyter Notebook\n",
    "This is an array practice file.\n",
    "Instructor: Dr. Chih-Hao Ku\n",
    "\"\"\"\n",
    "\n",
    "print(\"Hello, World!\")"
   ]
  },
  {
   "cell_type": "code",
<<<<<<< HEAD
   "execution_count": 2,
=======
   "execution_count": null,
>>>>>>> a3e2c224e4cff81ad9a3a63d2768825e4396bf75
   "metadata": {},
   "outputs": [],
   "source": [
    "Univ=[\"Cleveland\", \"State\", \"University\"] #this is an inline comment\n"
   ]
  },
  {
   "cell_type": "code",
<<<<<<< HEAD
   "execution_count": 3,
   "metadata": {},
   "outputs": [
    {
     "name": "stdout",
     "output_type": "stream",
     "text": [
      "15\n"
     ]
    }
   ],
=======
   "execution_count": null,
   "metadata": {},
   "outputs": [],
>>>>>>> a3e2c224e4cff81ad9a3a63d2768825e4396bf75
   "source": [
    "print(10 + 5)"
   ]
  }
 ],
 "metadata": {
  "kernelspec": {
   "display_name": "Python 3",
   "language": "python",
   "name": "python3"
  },
  "language_info": {
   "codemirror_mode": {
    "name": "ipython",
    "version": 3
   },
   "file_extension": ".py",
   "mimetype": "text/x-python",
   "name": "python",
   "nbconvert_exporter": "python",
   "pygments_lexer": "ipython3",
<<<<<<< HEAD
   "version": "3.10.2"
=======
   "version": "3.9.6"
>>>>>>> a3e2c224e4cff81ad9a3a63d2768825e4396bf75
  }
 },
 "nbformat": 4,
 "nbformat_minor": 4
}

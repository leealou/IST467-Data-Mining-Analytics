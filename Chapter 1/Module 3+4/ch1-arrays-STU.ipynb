{
 "cells": [
  {
   "cell_type": "code",
   "execution_count": 2,
   "metadata": {},
   "outputs": [
    {
     "name": "stdout",
     "output_type": "stream",
     "text": [
      "print entire array: ['Cleveland', 'State', 'University']\n",
      "print first array element:\n",
      "print the length of array: 3\n",
      "['Cleveland', 'State', 'University', 'super']\n",
      "['Cleveland', 'State', 'University']\n"
     ]
    }
   ],
   "source": [
    "Univ=[\"Cleveland\", \"State\", \"University\"] #this is an inline comment\n",
    "print(\"print entire array:\", Univ)\n",
    "print(\"print first array element:\")\n",
    "print(\"print the length of array:\", len(Univ))\n",
    "\n",
    "#Looping array elements\n",
    "\n",
    "\n",
    "#adding array eleemnts\n",
    "Univ.append(\"super\")\n",
    "print(Univ)\n",
    "\n",
    "#removing array elements\n",
    "Univ.remove(\"super\")\n",
    "print(Univ)\n",
    "\n",
    "#use the pop() to remove an element frmo the arrary Univ.pop[3]\n"
   ]
  },
  {
   "cell_type": "code",
   "execution_count": 3,
   "metadata": {},
   "outputs": [
    {
     "ename": "NameError",
     "evalue": "name 'np' is not defined",
     "output_type": "error",
     "traceback": [
      "\u001b[1;31m---------------------------------------------------------------------------\u001b[0m",
      "\u001b[1;31mNameError\u001b[0m                                 Traceback (most recent call last)",
      "\u001b[1;32mc:\\Users\\Alexis\\OneDrive\\Documents\\GitHub\\IST467-Data-Mining-Analytics\\Chapter 1\\Module 3+4\\ch1-arrays-STU.ipynb Cell 2'\u001b[0m in \u001b[0;36m<module>\u001b[1;34m\u001b[0m\n\u001b[0;32m      <a href='vscode-notebook-cell:/c%3A/Users/Alexis/OneDrive/Documents/GitHub/IST467-Data-Mining-Analytics/Chapter%201/Module%203%2B4/ch1-arrays-STU.ipynb#ch0000001?line=0'>1</a>\u001b[0m \u001b[39m# array creation\u001b[39;00m\n\u001b[0;32m      <a href='vscode-notebook-cell:/c%3A/Users/Alexis/OneDrive/Documents/GitHub/IST467-Data-Mining-Analytics/Chapter%201/Module%203%2B4/ch1-arrays-STU.ipynb#ch0000001?line=1'>2</a>\u001b[0m \u001b[39m# Basedon the following code, import numpy as np\u001b[39;00m\n\u001b[1;32m----> <a href='vscode-notebook-cell:/c%3A/Users/Alexis/OneDrive/Documents/GitHub/IST467-Data-Mining-Analytics/Chapter%201/Module%203%2B4/ch1-arrays-STU.ipynb#ch0000001?line=2'>3</a>\u001b[0m data \u001b[39m=\u001b[39m np\u001b[39m.\u001b[39marray([[\u001b[39m3\u001b[39m, \u001b[39m-\u001b[39m\u001b[39m1.5\u001b[39m, \u001b[39m2\u001b[39m, \u001b[39m-\u001b[39m\u001b[39m5.4\u001b[39m], [\u001b[39m0\u001b[39m, \u001b[39m4\u001b[39m, \u001b[39m-\u001b[39m\u001b[39m0.3\u001b[39m, \u001b[39m2.1\u001b[39m], [\u001b[39m1\u001b[39m, \u001b[39m3.3\u001b[39m, \u001b[39m-\u001b[39m\u001b[39m1.9\u001b[39m, \u001b[39m-\u001b[39m\u001b[39m4.3\u001b[39m]])\n\u001b[0;32m      <a href='vscode-notebook-cell:/c%3A/Users/Alexis/OneDrive/Documents/GitHub/IST467-Data-Mining-Analytics/Chapter%201/Module%203%2B4/ch1-arrays-STU.ipynb#ch0000001?line=3'>4</a>\u001b[0m \u001b[39mprint\u001b[39m(data)\n",
      "\u001b[1;31mNameError\u001b[0m: name 'np' is not defined"
     ]
    }
   ],
   "source": [
    "# array creation\n",
    "# Basedon the following code, import numpy as np\n",
    "data = np.array([[3, -1.5, 2, -5.4], [0, 4, -0.3, 2.1], [1, 3.3, -1.9, -4.3]])\n",
    "print(data)\n"
   ]
  },
  {
   "cell_type": "code",
   "execution_count": 4,
   "metadata": {},
   "outputs": [
    {
     "ename": "NameError",
     "evalue": "name 'np' is not defined",
     "output_type": "error",
     "traceback": [
      "\u001b[1;31m---------------------------------------------------------------------------\u001b[0m",
      "\u001b[1;31mNameError\u001b[0m                                 Traceback (most recent call last)",
      "\u001b[1;32mc:\\Users\\Alexis\\OneDrive\\Documents\\GitHub\\IST467-Data-Mining-Analytics\\Chapter 1\\Module 3+4\\ch1-arrays-STU.ipynb Cell 3'\u001b[0m in \u001b[0;36m<module>\u001b[1;34m\u001b[0m\n\u001b[0;32m      <a href='vscode-notebook-cell:/c%3A/Users/Alexis/OneDrive/Documents/GitHub/IST467-Data-Mining-Analytics/Chapter%201/Module%203%2B4/ch1-arrays-STU.ipynb#ch0000002?line=0'>1</a>\u001b[0m \u001b[39m# arrange() - create a one-dimensional array of equidistant values with numbers from 0 to 10\u001b[39;00m\n\u001b[1;32m----> <a href='vscode-notebook-cell:/c%3A/Users/Alexis/OneDrive/Documents/GitHub/IST467-Data-Mining-Analytics/Chapter%201/Module%203%2B4/ch1-arrays-STU.ipynb#ch0000002?line=1'>2</a>\u001b[0m NpArray1 \u001b[39m=\u001b[39m np\u001b[39m.\u001b[39marange(\u001b[39m20\u001b[39m)\n\u001b[0;32m      <a href='vscode-notebook-cell:/c%3A/Users/Alexis/OneDrive/Documents/GitHub/IST467-Data-Mining-Analytics/Chapter%201/Module%203%2B4/ch1-arrays-STU.ipynb#ch0000002?line=2'>3</a>\u001b[0m \u001b[39mprint\u001b[39m(NpArray1)\n",
      "\u001b[1;31mNameError\u001b[0m: name 'np' is not defined"
     ]
    }
   ],
   "source": [
    "# arrange() - create a one-dimensional array of equidistant values with numbers from 0 to 10\n",
    "NpArray1 = np.arange(20)\n",
    "print(NpArray1)\n"
   ]
  },
  {
   "cell_type": "code",
   "execution_count": 5,
   "metadata": {},
   "outputs": [
    {
     "ename": "NameError",
     "evalue": "name 'np' is not defined",
     "output_type": "error",
     "traceback": [
      "\u001b[1;31m---------------------------------------------------------------------------\u001b[0m",
      "\u001b[1;31mNameError\u001b[0m                                 Traceback (most recent call last)",
      "\u001b[1;32mc:\\Users\\Alexis\\OneDrive\\Documents\\GitHub\\IST467-Data-Mining-Analytics\\Chapter 1\\Module 3+4\\ch1-arrays-STU.ipynb Cell 4'\u001b[0m in \u001b[0;36m<module>\u001b[1;34m\u001b[0m\n\u001b[0;32m      <a href='vscode-notebook-cell:/c%3A/Users/Alexis/OneDrive/Documents/GitHub/IST467-Data-Mining-Analytics/Chapter%201/Module%203%2B4/ch1-arrays-STU.ipynb#ch0000003?line=0'>1</a>\u001b[0m \u001b[39m# create a numeric array from 0 to 50, with a step of 5 (using a predetermined step between successive values)\u001b[39;00m\n\u001b[1;32m----> <a href='vscode-notebook-cell:/c%3A/Users/Alexis/OneDrive/Documents/GitHub/IST467-Data-Mining-Analytics/Chapter%201/Module%203%2B4/ch1-arrays-STU.ipynb#ch0000003?line=1'>2</a>\u001b[0m NpArray2 \u001b[39m=\u001b[39m np\u001b[39m.\u001b[39marange(\u001b[39m10\u001b[39m, \u001b[39m101\u001b[39m, \u001b[39m10\u001b[39m)\n\u001b[0;32m      <a href='vscode-notebook-cell:/c%3A/Users/Alexis/OneDrive/Documents/GitHub/IST467-Data-Mining-Analytics/Chapter%201/Module%203%2B4/ch1-arrays-STU.ipynb#ch0000003?line=2'>3</a>\u001b[0m \u001b[39mprint\u001b[39m(NpArray2)\n",
      "\u001b[1;31mNameError\u001b[0m: name 'np' is not defined"
     ]
    }
   ],
   "source": [
    "# create a numeric array from 0 to 50, with a step of 5 (using a predetermined step between successive values)\n",
    "NpArray2 = np.arange(10, 101, 10)\n",
    "print(NpArray2)\n"
   ]
  },
  {
   "cell_type": "code",
   "execution_count": 6,
   "metadata": {},
   "outputs": [
    {
     "ename": "NameError",
     "evalue": "name 'np' is not defined",
     "output_type": "error",
     "traceback": [
      "\u001b[1;31m---------------------------------------------------------------------------\u001b[0m",
      "\u001b[1;31mNameError\u001b[0m                                 Traceback (most recent call last)",
      "\u001b[1;32mc:\\Users\\Alexis\\OneDrive\\Documents\\GitHub\\IST467-Data-Mining-Analytics\\Chapter 1\\Module 3+4\\ch1-arrays-STU.ipynb Cell 5'\u001b[0m in \u001b[0;36m<module>\u001b[1;34m\u001b[0m\n\u001b[0;32m      <a href='vscode-notebook-cell:/c%3A/Users/Alexis/OneDrive/Documents/GitHub/IST467-Data-Mining-Analytics/Chapter%201/Module%203%2B4/ch1-arrays-STU.ipynb#ch0000004?line=0'>1</a>\u001b[0m \u001b[39m# arrange() - create a one-dimensional array of equidistant values with numbers from 0 to 10\u001b[39;00m\n\u001b[1;32m----> <a href='vscode-notebook-cell:/c%3A/Users/Alexis/OneDrive/Documents/GitHub/IST467-Data-Mining-Analytics/Chapter%201/Module%203%2B4/ch1-arrays-STU.ipynb#ch0000004?line=1'>2</a>\u001b[0m NpArray3 \u001b[39m=\u001b[39m np\u001b[39m.\u001b[39mlinspace(\u001b[39m0\u001b[39m, \u001b[39m10\u001b[39m, \u001b[39m50\u001b[39m)\n\u001b[0;32m      <a href='vscode-notebook-cell:/c%3A/Users/Alexis/OneDrive/Documents/GitHub/IST467-Data-Mining-Analytics/Chapter%201/Module%203%2B4/ch1-arrays-STU.ipynb#ch0000004?line=2'>3</a>\u001b[0m \u001b[39mprint\u001b[39m(NpArray3)\n",
      "\u001b[1;31mNameError\u001b[0m: name 'np' is not defined"
     ]
    }
   ],
   "source": [
    "# arrange() - create a one-dimensional array of equidistant values with numbers from 0 to 10\n",
    "NpArray3 = np.linspace(0, 10, 50)\n",
    "print(NpArray3)\n"
   ]
  },
  {
   "cell_type": "code",
   "execution_count": null,
   "metadata": {},
   "outputs": [],
   "source": []
  }
 ],
 "metadata": {
  "kernelspec": {
   "display_name": "Python 3 (ipykernel)",
   "language": "python",
   "name": "python3"
  },
  "language_info": {
   "codemirror_mode": {
    "name": "ipython",
    "version": 3
   },
   "file_extension": ".py",
   "mimetype": "text/x-python",
   "name": "python",
   "nbconvert_exporter": "python",
   "pygments_lexer": "ipython3",
   "version": "3.10.2"
  },
  "widgets": {
   "application/vnd.jupyter.widget-state+json": {
    "state": {},
    "version_major": 2,
    "version_minor": 0
   }
  }
 },
 "nbformat": 4,
 "nbformat_minor": 4
}

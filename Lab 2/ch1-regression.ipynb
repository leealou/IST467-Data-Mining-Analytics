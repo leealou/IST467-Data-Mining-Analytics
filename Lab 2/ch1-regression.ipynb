{
 "cells": [
  {
   "cell_type": "code",
   "execution_count": 1,
   "metadata": {},
   "outputs": [
    {
     "name": "stdout",
     "output_type": "stream",
     "text": [
      "Mean absolute error = 241907.27\n",
      "Mean squared error = 81974851872.13\n",
      "Median absolute error = 240861.94\n",
      "Explain variance score = 0.98\n",
      "R2 score = 0.98\n",
      "New mean absolute error = 241907.27\n",
      "Mean absolute error = 241907.27\n",
      "Mean squared error = 81974851872.13\n",
      "Median absolute error = 240861.94\n",
      "Explain variance score = 0.98\n",
      "R2 score = 0.98\n"
     ]
    },
    {
     "data": {
      "image/png": "[encoded data removed]",
      "text/plain": [
       "<Figure size 432x288 with 1 Axes>"
      ]
     },
     "metadata": {
      "needs_background": "light"
     },
     "output_type": "display_data"
    },
    {
     "data": {
      "image/png": "[encoded data removed]",
      "text/plain": [
       "<Figure size 432x288 with 1 Axes>"
      ]
     },
     "metadata": {
      "needs_background": "light"
     },
     "output_type": "display_data"
    }
   ],
   "source": [
    "\"\"\"\n",
    "Linear Regression\n",
    "Need the matplotlib lib and VehiclesItaly.txt\n",
    "Instructor: Dr. Chih-Hao Ku\n",
    "\"\"\"\n",
    "\n",
    "#loading the file\n",
    "filename = \"../data/source/VehiclesItaly.txt\"\n",
    "\n",
    "X = [] #independent variable (explantory variable)\n",
    "y = [] #dependent variable (response variable)\n",
    "\"\"\"\n",
    "1. open the file r(reading), w(writing), a(appending), r+(read and write)\n",
    "2. prase each line and split it baed on the comma operator.\n",
    "3. convert values into floating point values\n",
    "4. Save them in X and Y\n",
    "\"\"\"\n",
    "with open(filename, 'r') as f:\n",
    "    for line in f.readlines():\n",
    "        xt, yt = [float(i) for i in line.split(',')]\n",
    "        X.append(xt)\n",
    "        y.append(yt)\n",
    "        \n",
    "# Train/test split\n",
    "num_training = int(0.8 * len(X))\n",
    "num_test = len(X) - num_training\n",
    "\n",
    "import numpy as np\n",
    "\n",
    "# Training data\n",
    "X_train = np.array(X[:num_training]).reshape((num_training,1))\n",
    "y_train = np.array(y[:num_training])\n",
    "\n",
    "# Test data\n",
    "X_test = np.array(X[num_training:]).reshape((num_test,1))\n",
    "y_test = np.array(y[num_training:])\n",
    "\n",
    "# Create linear regression object\n",
    "from sklearn import linear_model\n",
    "# ordinary least squares linear regression\n",
    "linear_regressor = linear_model.LinearRegression()\n",
    "\n",
    "# Train the model using the training sets\n",
    "# Fit the linear model. \n",
    "# The fit() method takes the input data and trains the model. \n",
    "linear_regressor.fit(X_train, y_train)\n",
    "\n",
    "# Predict the training data with the model fitted:\n",
    "y_train_pred = linear_regressor.predict(X_train)\n",
    "\n",
    "# Plot training data outputs\n",
    "import matplotlib.pyplot as plt\n",
    "\n",
    "plt.figure()\n",
    "plt.scatter(X_train, y_train, color='green')\n",
    "plt.plot(X_train, y_train_pred, color='red', linewidth=3)\n",
    "plt.title('Training data')\n",
    "plt.show\n",
    "\n",
    "# Plot testing data outputs\n",
    "y_test_pred = linear_regressor.predict(X_test)\n",
    "plt.figure()\n",
    "plt.scatter(X_test, y_test, color='green')\n",
    "plt.plot(X_test, y_test_pred, color='red', linewidth=3)\n",
    "plt.title('Test data')\n",
    "plt.show\n",
    "\n",
    "\n",
    "# Measure performance\n",
    "import sklearn.metrics as sm\n",
    "\n",
    "print(\"Mean absolute error =\", round(sm.mean_absolute_error(y_test, y_test_pred), 2)) \n",
    "print(\"Mean squared error =\", round(sm.mean_squared_error(y_test, y_test_pred), 2)) \n",
    "print(\"Median absolute error =\", round(sm.median_absolute_error(y_test, y_test_pred), 2)) \n",
    "print(\"Explain variance score =\", round(sm.explained_variance_score(y_test, y_test_pred), 2)) \n",
    "print(\"R2 score =\", round(sm.r2_score(y_test, y_test_pred), 2))\n",
    "\n",
    "\n",
    "\"\"\"\n",
    " It is desirable to have a way to persist the model for future use without having to retrain\n",
    "\"\"\"\n",
    "# Model persistence\n",
    "# The pickle module transforms an arbitrary Python object into a series of bytes.\n",
    "import pickle\n",
    "\n",
    "#The regressor object will be saved in the saved_model.pkl file.\n",
    "output_model_file = \"3_model_linear_regr.pkl\"\n",
    "\n",
    "# The PKL file is created using Python pickle and the dump() method and is loaded using Python pickle and the load() method.\n",
    "with open(output_model_file, 'wb') as f: #'wb' for writing binary file\n",
    "    pickle.dump(linear_regressor, f)\n",
    "\n",
    "with open(output_model_file, 'rb') as f: #'rb' for reading binary file\n",
    "    model_linregr = pickle.load(f)\n",
    "\n",
    "y_test_pred_new = model_linregr.predict(X_test)\n",
    "print(\"New mean absolute error =\", round(sm.mean_absolute_error(y_test, y_test_pred_new), 2)) \n",
    "\n",
    "\"\"\"\n",
    "Source: https://scikit-learn.org/stable/modules/generated/sklearn.linear_model.Ridge.html\n",
    "Ridge regression is a regularization method where a penalty is imposed on the size of the coefficients.\n",
    "alpha controls the complexity, default=1.0.\n",
    "As alpha gets closer to 0, the ridge regressor tends to become more like a linear regressor with ordinary least squares.\n",
    "So, if you want to make it robust against outliers, you need to assign a higher value to alpha. \n",
    "Regularization strength; must be a positive float. \n",
    "Regularization improves the conditioning of the problem and reduces the variance of the estimates. \n",
    "Larger values specify stronger regularization.\n",
    "\"\"\"\n",
    "# Fit_intercept: True by default. Whether to calculate the intercept for this model. \n",
    "#If set to False, no intercept will be used in calculations (i.e. data is expected to be centered).\n",
    "# max_iter: int, default=100. Maximum number of iterations taken for the solvers to converge.\n",
    "ridge_regressor = linear_model.Ridge(alpha=0.01, fit_intercept=True, max_iter=10000)\n",
    "\n",
    "ridge_regressor.fit(X_train, y_train)\n",
    "y_test_pred_ridge = ridge_regressor.predict(X_test)\n",
    "print( \"Mean absolute error =\", round(sm.mean_absolute_error(y_test, y_test_pred_ridge), 2))\n",
    "print( \"Mean squared error =\", round(sm.mean_squared_error(y_test, y_test_pred_ridge), 2))\n",
    "print( \"Median absolute error =\", round(sm.median_absolute_error(y_test, y_test_pred_ridge), 2))\n",
    "print( \"Explain variance score =\", round(sm.explained_variance_score(y_test, y_test_pred_ridge), 2))\n",
    "print( \"R2 score =\", round(sm.r2_score(y_test, y_test_pred_ridge), 2))\n"
   ]
  },
  {
   "cell_type": "code",
   "execution_count": null,
   "metadata": {},
   "outputs": [],
   "source": []
  }
 ],
 "metadata": {
  "kernelspec": {
   "display_name": "Python 3 (ipykernel)",
   "language": "python",
   "name": "python3"
  },
  "language_info": {
   "codemirror_mode": {
    "name": "ipython",
    "version": 3
   },
   "file_extension": ".py",
   "mimetype": "text/x-python",
   "name": "python",
   "nbconvert_exporter": "python",
   "pygments_lexer": "ipython3",
   "version": "3.10.2"
  }
 },
 "nbformat": 4,
 "nbformat_minor": 4
}

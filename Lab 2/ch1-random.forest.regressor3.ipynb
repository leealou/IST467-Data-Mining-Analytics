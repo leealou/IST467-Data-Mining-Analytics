{
 "cells": [
  {
   "cell_type": "code",
   "execution_count": null,
   "metadata": {},
   "outputs": [],
   "source": [
    "import csv\n",
    "import numpy as np\n",
    "\n",
    "#contains data about how the bicycles are shared hourly. \n",
    "#columns 3 to 14\n",
    "filename=\"../data/source/bike_hour.csv\"\n",
    "file_reader = csv.reader(open(filename, 'r'), delimiter=',')\n",
    "X, y = [], []\n",
    "for row in file_reader:\n",
    "    X.append(row[2:14])\n",
    "    y.append(row[-1])\n",
    "\n",
    "# Extract feature names\n",
    "feature_names = np.array(X[0])\n",
    "\n",
    "# Remove the first row because they are feature names\n",
    "X=np.array(X[1:]).astype(np.float32)\n",
    "y=np.array(y[1:]).astype(np.float32)\n",
    "\n",
    "from sklearn.utils import shuffle\n",
    "X, y = shuffle(X, y, random_state=7) \n",
    "\n",
    "num_training = int(0.9 * len(X))\n",
    "X_train, y_train = X[:num_training], y[:num_training]\n",
    "X_test, y_test = X[num_training:], y[num_training:]\n",
    "\n",
    "from sklearn.ensemble import RandomForestRegressor\n",
    "\n",
    "rf_regressor = RandomForestRegressor(n_estimators=1000, max_depth=10, min_samples_split=2)\n",
    "rf_regressor.fit(X_train, y_train)\n",
    "\n",
    "y_pred = rf_regressor.predict(X_test)\n",
    "\n",
    "from sklearn.metrics import mean_squared_error, explained_variance_score\n",
    "mse = mean_squared_error(y_test, y_pred)\n",
    "evs = explained_variance_score(y_test, y_pred)\n",
    "print( \"#### Random Forest regressor performance ####\")\n",
    "print(\"Mean squared error =\", round(mse, 2))\n",
    "print(\"Explained variance score =\", round(evs, 2))\n",
    "\n",
    "RFFImp= rf_regressor.feature_importances_ \n",
    "RFFImp= 100.0 * (RFFImp / max(RFFImp))\n",
    "index_sorted = np.flipud(np.argsort(RFFImp))\n",
    "pos = np.arange(index_sorted.shape[0]) + 0.5\n",
    "\n",
    "import matplotlib.pyplot as plt\n",
    "plt.figure()\n",
    "plt.bar(pos, RFFImp[index_sorted], align='center')\n",
    "plt.xticks(pos, feature_names[index_sorted])\n",
    "plt.ylabel('Relative Importance')\n",
    "plt.title(\"Random Forest regressor\")\n",
    "plt.show()\n"
   ]
  },
  {
   "cell_type": "code",
   "execution_count": null,
   "metadata": {},
   "outputs": [],
   "source": []
  }
 ],
 "metadata": {
  "kernelspec": {
   "display_name": "Python 3",
   "language": "python",
   "name": "python3"
  },
  "language_info": {
   "codemirror_mode": {
    "name": "ipython",
    "version": 3
   },
   "file_extension": ".py",
   "mimetype": "text/x-python",
   "name": "python",
   "nbconvert_exporter": "python",
   "pygments_lexer": "ipython3",
   "version": "3.9.6"
  }
 },
 "nbformat": 4,
 "nbformat_minor": 4
}

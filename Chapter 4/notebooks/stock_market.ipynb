{
 "cells": [
  {
   "cell_type": "code",
   "execution_count": null,
   "metadata": {},
   "outputs": [],
   "source": [
    "import json\n",
    "import datetime\n",
    "import sys\n",
    "import pandas as pd\n",
    "\n",
    "import numpy as np\n",
    "import matplotlib.pyplot as plt\n",
    "from sklearn import covariance, cluster\n",
    "#from mpl_toolkits import quotes_historical_yahoo_ochl as quotes_yahoo\n",
    "#from mpl_finance import candlestick2_ochl as quotes_yahoo\n",
    "# Input symbol file\n",
    "\n",
    "symbol_file = '../data/source/symbol_map.json'\n",
    "\n",
    "with open(symbol_file, 'r') as f:\n",
    "    symbol_dict = json.loads(f.read())\n",
    "\n",
    "symbols, names = np.array(sorted(symbol_dict.items())).T\n",
    "\n",
    "quotes = []\n",
    "\n",
    "for symbol in symbols:\n",
    "    print('Fetching quote history for %r' % symbol, file=sys.stderr)\n",
    "    url = ('https://raw.githubusercontent.com/scikit-learn/examples-data/'\n",
    "           'master/financial-data/{}.csv')\n",
    "    quotes.append(pd.read_csv(url.format(symbol)))\n",
    "    \n",
    "closing_quotes = np.vstack([q['close'] for q in quotes])\n",
    "opening_quotes = np.vstack([q['open'] for q in quotes])\n",
    "\n",
    "# The daily fluctuations of the quotes \n",
    "delta_quotes = closing_quotes - opening_quotes\n",
    "\n",
    "# Build a graph model from the correlations\n",
    "edge_model = covariance.GraphicalLassoCV(cv=3)\n",
    "\n",
    "# Standardize the data \n",
    "X = delta_quotes.copy().T\n",
    "X /= X.std(axis=0)\n",
    "\n",
    "# Train the model\n",
    "with np.errstate(invalid='ignore'):\n",
    "    edge_model.fit(X)\n",
    "\n",
    "# Build clustering model using affinity propagation\n",
    "_, labels = cluster.affinity_propagation(edge_model.covariance_)\n",
    "num_labels = labels.max()\n",
    "\n",
    "# Print the results of clustering\n",
    "for i in range(num_labels + 1):\n",
    "    print(\"Cluster\", i+1, \"-->\", ', '.join(names[labels == i]))\n",
    "    \n",
    "\n",
    "\n"
   ]
  },
  {
   "cell_type": "code",
   "execution_count": null,
   "metadata": {},
   "outputs": [],
   "source": []
  }
 ],
 "metadata": {
  "kernelspec": {
   "display_name": "Python 3 (ipykernel)",
   "language": "python",
   "name": "python3"
  },
  "language_info": {
   "codemirror_mode": {
    "name": "ipython",
    "version": 3
   },
   "file_extension": ".py",
   "mimetype": "text/x-python",
   "name": "python",
   "nbconvert_exporter": "python",
   "pygments_lexer": "ipython3",
   "version": "3.10.2"
  }
 },
 "nbformat": 4,
 "nbformat_minor": 4
}

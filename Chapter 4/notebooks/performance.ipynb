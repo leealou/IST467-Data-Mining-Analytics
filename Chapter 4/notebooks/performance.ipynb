{
 "cells": [
  {
   "cell_type": "code",
   "execution_count": null,
   "metadata": {},
   "outputs": [],
   "source": [
    "import numpy as np\n",
    "import matplotlib.pyplot as plt\n",
    "from sklearn import metrics\n",
    "from sklearn.cluster import KMeans\n",
    "\n",
    "input_file = ('../data/source/data_perf.txt')\n",
    "# Load data\n",
    "x = []\n",
    "with open(input_file, 'r') as f:\n",
    "    for line in f.readlines():\n",
    "        data = [float(i) for i in line.split(',')]\n",
    "        x.append(data)\n",
    "\n",
    "data = np.array(x)\n",
    "\n",
    "\n",
    "scores = []\n",
    "range_values = np.arange(2, 10)\n",
    "\n",
    "for i in range_values:\n",
    "    # Train the model\n",
    "    kmeans = KMeans(init='k-means++', n_clusters=i, n_init=10)\n",
    "    kmeans.fit(data)\n",
    "    score = metrics.silhouette_score(data, kmeans.labels_, \n",
    "                metric='euclidean', sample_size=len(data))\n",
    "\n",
    "    print(\"Number of clusters =\", i)\n",
    "    print(\"Silhouette score =\", score)\n",
    "                    \n",
    "    scores.append(score)\n",
    "\n",
    "# Plot scores\n",
    "plt.figure()\n",
    "plt.bar(range_values, scores, width=0.6, color='k', align='center')\n",
    "plt.title('Silhouette score vs number of clusters')\n",
    "\n",
    "# Plot data\n",
    "plt.figure()\n",
    "plt.scatter(data[:,0], data[:,1], color='k', s=30, marker='o', facecolors='none')\n",
    "x_min, x_max = min(data[:, 0]) - 1, max(data[:, 0]) + 1\n",
    "y_min, y_max = min(data[:, 1]) - 1, max(data[:, 1]) + 1\n",
    "plt.title('Input data')\n",
    "plt.xlim(x_min, x_max)\n",
    "plt.ylim(y_min, y_max)\n",
    "plt.xticks(())\n",
    "plt.yticks(())\n",
    "\n",
    "plt.show()\n"
   ]
  },
  {
   "cell_type": "code",
   "execution_count": null,
   "metadata": {},
   "outputs": [],
   "source": []
  }
 ],
 "metadata": {
  "kernelspec": {
   "display_name": "Python 3",
   "language": "python",
   "name": "python3"
  },
  "language_info": {
   "codemirror_mode": {
    "name": "ipython",
    "version": 3
   },
   "file_extension": ".py",
   "mimetype": "text/x-python",
   "name": "python",
   "nbconvert_exporter": "python",
   "pygments_lexer": "ipython3",
   "version": "3.9.6"
  }
 },
 "nbformat": 4,
 "nbformat_minor": 4
}

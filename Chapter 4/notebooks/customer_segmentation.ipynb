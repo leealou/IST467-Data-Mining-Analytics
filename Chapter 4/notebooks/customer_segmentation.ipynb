{
 "cells": [
  {
   "cell_type": "code",
   "execution_count": null,
   "metadata": {},
   "outputs": [],
   "source": [
    "import csv\n",
    "\n",
    "import numpy as np\n",
    "from sklearn.cluster import MeanShift, estimate_bandwidth\n",
    "import matplotlib.pyplot as plt\n",
    "\n",
    "# Load data from input file\n",
    "input_file = '../data/source/wholesale.csv'\n",
    "file_reader = csv.reader(open(input_file, 'rt'), delimiter=',')\n",
    "X = []\n",
    "for count, row in enumerate(file_reader):\n",
    "    if not count:\n",
    "        names = row[2:]\n",
    "        continue\n",
    "\n",
    "    X.append([float(x) for x in row[2:]])\n",
    "\n",
    "# Input data as numpy array\n",
    "X = np.array(X)\n",
    "\n",
    "# Estimating the bandwidth \n",
    "bandwidth = estimate_bandwidth(X, quantile=0.8, n_samples=len(X))\n",
    "\n",
    "# Compute clustering with MeanShift\n",
    "meanshift_estimator = MeanShift(bandwidth=bandwidth, bin_seeding=True)\n",
    "meanshift_estimator.fit(X)\n",
    "labels = meanshift_estimator.labels_\n",
    "centroids = meanshift_estimator.cluster_centers_\n",
    "num_clusters = len(np.unique(labels))\n",
    "\n",
    "print(\"Number of clusters in input data =\", num_clusters)\n",
    "\n",
    "print(\"Centroids of clusters:\")\n",
    "print('\\t'.join([name[:3] for name in names]))\n",
    "for centroid in centroids:\n",
    "    print('\\t'.join([str(int(x)) for x in centroid]))\n",
    "\n",
    "################\n",
    "# Visualizing data\n",
    "\n",
    "centroids_milk_groceries = centroids[:, 1:3]\n",
    "\n",
    "# Plot the nodes using the coordinates of our centroids_milk_groceries\n",
    "plt.figure()\n",
    "plt.scatter(centroids_milk_groceries[:,0], centroids_milk_groceries[:,1], \n",
    "        s=100, edgecolors='k', facecolors='none')\n",
    "\n",
    "offset = 0.2\n",
    "plt.xlim(centroids_milk_groceries[:,0].min() - offset * centroids_milk_groceries[:,0].ptp(),\n",
    "        centroids_milk_groceries[:,0].max() + offset * centroids_milk_groceries[:,0].ptp(),)\n",
    "plt.ylim(centroids_milk_groceries[:,1].min() - offset * centroids_milk_groceries[:,1].ptp(),\n",
    "        centroids_milk_groceries[:,1].max() + offset * centroids_milk_groceries[:,1].ptp())\n",
    "\n",
    "plt.title('Centroids of clusters for milk and groceries')\n",
    "plt.show()\n"
   ]
  },
  {
   "cell_type": "code",
   "execution_count": null,
   "metadata": {},
   "outputs": [],
   "source": []
  }
 ],
 "metadata": {
  "kernelspec": {
   "display_name": "Python 3",
   "language": "python",
   "name": "python3"
  },
  "language_info": {
   "codemirror_mode": {
    "name": "ipython",
    "version": 3
   },
   "file_extension": ".py",
   "mimetype": "text/x-python",
   "name": "python",
   "nbconvert_exporter": "python",
   "pygments_lexer": "ipython3",
   "version": "3.9.6"
  }
 },
 "nbformat": 4,
 "nbformat_minor": 4
}
